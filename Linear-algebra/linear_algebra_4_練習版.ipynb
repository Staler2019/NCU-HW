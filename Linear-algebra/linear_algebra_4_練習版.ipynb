{
  "nbformat": 4,
  "nbformat_minor": 0,
  "metadata": {
    "colab": {
      "name": "linear_algebra_4_練習版.ipynb",
      "provenance": [],
      "collapsed_sections": [],
      "toc_visible": true
    },
    "kernelspec": {
      "name": "python3",
      "display_name": "Python 3",
      "language": "python"
    }
  },
  "cells": [
    {
      "cell_type": "code",
      "metadata": {
        "id": "jsJBu7-zJKNP",
        "colab": {
          "base_uri": "https://localhost:8080/"
        },
        "outputId": "76bbdcb8-ffea-4e61-82b1-6a8283ea2bb8"
      },
      "source": [
        "from google.colab import drive #從colab連接到自己的雲端硬碟。\n",
        "drive.mount('/content/drive')"
      ],
      "execution_count": null,
      "outputs": [
        {
          "output_type": "stream",
          "text": [
            "Drive already mounted at /content/drive; to attempt to forcibly remount, call drive.mount(\"/content/drive\", force_remount=True).\n"
          ],
          "name": "stdout"
        }
      ]
    },
    {
      "cell_type": "markdown",
      "metadata": {
        "id": "HviQHBz8e-xU"
      },
      "source": [
        "# 今天的目標\n",
        "- 寫numpy練習題"
      ]
    },
    {
      "cell_type": "markdown",
      "metadata": {
        "id": "bWAcleIaf3l2"
      },
      "source": [
        "## 第一題\n",
        "- 計算兩個數組a和b之間的歐式距離。\n",
        "\n",
        "  - 利用`np.linalg.norm()`"
      ]
    },
    {
      "cell_type": "code",
      "metadata": {
        "id": "LsDGUoFuf-rL",
        "colab": {
          "base_uri": "https://localhost:8080/"
        },
        "outputId": "ec33b737-6d9a-4eee-8167-c0c75f9de532"
      },
      "source": [],
      "execution_count": null,
      "outputs": [
        {
          "output_type": "stream",
          "text": [
            "answer1: 6.708203932499369\n"
          ],
          "name": "stdout"
        }
      ]
    },
    {
      "cell_type": "code",
      "metadata": {
        "id": "vTgc3crM24M4"
      },
      "source": [
        "#1\n",
        "import numpy as np\n",
        "a = np.array([1,2,3,4,5])\n",
        "b = np.array([4,5,6,7,8])\n",
        "answer1 = np.linalg.norm(a-b)\n",
        "print(\"answer1:\",answer1)"
      ],
      "execution_count": 2,
      "outputs": [
        {
          "output_type": "stream",
          "name": "stdout",
          "text": [
            "answer1: 6.708203932499369\n"
          ]
        }
      ]
    },
    {
      "cell_type": "markdown",
      "metadata": {
        "id": "RLu6wY3afpqV"
      },
      "source": [
        "## 第二題\n",
        "- 將a數列的第1列第5列互換後,第2列第3列互換。"
      ]
    },
    {
      "cell_type": "code",
      "metadata": {
        "id": "epCCd95ufSqG",
        "colab": {
          "base_uri": "https://localhost:8080/"
        },
        "outputId": "14801fd4-8cb3-40d6-e934-e0a48d79f650"
      },
      "source": [],
      "execution_count": null,
      "outputs": [
        {
          "output_type": "stream",
          "text": [
            "[[ 0  1  2  3  4]\n",
            " [ 5  6  7  8  9]\n",
            " [10 11 12 13 14]\n",
            " [15 16 17 18 19]\n",
            " [20 21 22 23 24]]\n",
            "answer2:\n",
            " [[20 21 22 23 24]\n",
            " [10 11 12 13 14]\n",
            " [ 5  6  7  8  9]\n",
            " [15 16 17 18 19]\n",
            " [ 0  1  2  3  4]]\n"
          ],
          "name": "stdout"
        }
      ]
    },
    {
      "cell_type": "code",
      "metadata": {
        "id": "JHyf0hAbOBQu"
      },
      "source": [
        "#2\n",
        "a = np.arange(25).reshape(5,5)\n",
        "print(a)\n",
        "answer2 = a[[4,2,1,3,0]]\n",
        "print(\"answer2:\\n\",answer2)"
      ],
      "execution_count": 12,
      "outputs": [
        {
          "output_type": "stream",
          "name": "stdout",
          "text": [
            "[[ 0  1  2  3  4]\n [ 5  6  7  8  9]\n [10 11 12 13 14]\n [15 16 17 18 19]\n [20 21 22 23 24]]\nanswer2:\n [[20 21 22 23 24]\n [10 11 12 13 14]\n [ 5  6  7  8  9]\n [15 16 17 18 19]\n [ 0  1  2  3  4]]\n"
          ]
        }
      ]
    },
    {
      "cell_type": "markdown",
      "metadata": {
        "id": "wY_Iw383fatX"
      },
      "source": [
        "## 第三題\n",
        "- 建出規定的數列在不使用暴力法(直接宣告的情況下也就是只能使用numpy函數和輸入數組a)\n",
        "  - `[1,1,1,2,2,2,3,3,3,1,2,3,1,2,3,1,2,3]`\n",
        "  - 利用 `np.r_`、`np.repeat()`、`np.tile()`\n",
        "    - `np.r_[a,b,c...]`:可以拼接多個數組，要求待拼接的多個數組的列數必須相同\n",
        "    - `np.repeat()`:對數列中的元素進行連續重複複製\n",
        "    - `np.tile()`:對整個數列進行複製拼接"
      ]
    },
    {
      "cell_type": "code",
      "metadata": {
        "id": "Al55ELh3f2ot",
        "colab": {
          "base_uri": "https://localhost:8080/"
        },
        "outputId": "8e0b8366-2ca7-4794-dde1-9aea2e3c2acc"
      },
      "source": [],
      "execution_count": null,
      "outputs": [
        {
          "output_type": "stream",
          "text": [
            "answer3: [1 1 1 2 2 2 3 3 3 1 2 3 1 2 3 1 2 3]\n"
          ],
          "name": "stdout"
        }
      ]
    },
    {
      "cell_type": "code",
      "metadata": {
        "id": "7IQqDmM4M-Z2"
      },
      "source": [
        "#3\n",
        "\n",
        "a = np.array([1,2,3])\n",
        "# print(np.repeat(a,3))\n",
        "# print(np.tile(a,3))\n",
        "answer3 = np.r_[np.repeat(a,3),np.tile(a,3)]\n",
        "print(\"answer3:\",answer3)"
      ],
      "execution_count": 17,
      "outputs": [
        {
          "output_type": "stream",
          "name": "stdout",
          "text": [
            "answer3: [1 1 1 2 2 2 3 3 3 1 2 3 1 2 3 1 2 3]\n"
          ]
        }
      ]
    },
    {
      "cell_type": "markdown",
      "metadata": {
        "id": "MSiL6QR9f_gw"
      },
      "source": [
        "## 第四題\n",
        "- 在一維numpy數列a中查找所有峰值。峰值是兩側較小值包圍的點。\n",
        "  - 利用`np.diff()`、`np.sign()`、`np.where()`\n",
        "    - `np.diff()`:將數列中每個元素相減(下一個減前一個),結果存成一個新的數列\n",
        "    - `np.sign`:比1大變1,0還是0,比1小的數變-1"
      ]
    },
    {
      "cell_type": "code",
      "metadata": {
        "id": "-JTWYXnsgKRR",
        "colab": {
          "base_uri": "https://localhost:8080/"
        },
        "outputId": "c9fbea14-33f3-4e41-9cd2-c726d541e742"
      },
      "source": [],
      "execution_count": null,
      "outputs": [
        {
          "output_type": "stream",
          "text": [
            "[ 2  4 -6  1  4 -6  1]\n",
            "[ 1  1 -1  1  1 -1  1]\n",
            "[ 0 -2  2  0 -2  2]\n",
            "answer4: [2 5]\n"
          ],
          "name": "stdout"
        }
      ]
    },
    {
      "cell_type": "code",
      "metadata": {
        "id": "dy0IbUWE3Qa4"
      },
      "source": [
        "#4\n",
        "\n",
        "a = np.array([1,3,7,1,2,6,0,1])\n",
        "print(np.diff(a))\n",
        "print(np.sign(np.diff(a)))\n",
        "print(np.diff(np.sign(np.diff(a))))\n",
        "signed_doublediff = np.diff(np.sign(np.diff(a)))\n",
        "peak_location = np.where(signed_doublediff==-2)\n",
        "answer4 = peak_location\n",
        "print(\"answer4:\",answer4[0]+1)"
      ],
      "execution_count": 33,
      "outputs": [
        {
          "output_type": "stream",
          "name": "stdout",
          "text": [
            "[ 2  4 -6  1  4 -6  1]\n[ 1  1 -1  1  1 -1  1]\n[ 0 -2  2  0 -2  2]\nanswer4: [2 5]\n"
          ]
        }
      ]
    },
    {
      "cell_type": "markdown",
      "metadata": {
        "id": "p0veMBCsgZ98"
      },
      "source": [
        "## 第五題\n",
        "- 獲取前天、後天的日期\n",
        "  - 利用`np.timedelta64()`\n",
        "  - `np.timedelta64()`:一個時間的伸縮量,可以用來對np.datetime64()進行運算(+,-,...)\n"
      ]
    },
    {
      "cell_type": "code",
      "metadata": {
        "id": "pqd5nU3FgpRZ",
        "colab": {
          "base_uri": "https://localhost:8080/"
        },
        "outputId": "83549890-2a8a-48e3-ece1-bf80f4b1ac94"
      },
      "source": [],
      "execution_count": null,
      "outputs": [
        {
          "output_type": "stream",
          "text": [
            "answer5_today: 2020-12-17\n",
            "answer5_before_yesterday: 2020-12-15\n",
            "answer5_after_tomorrow: 2020-12-19\n"
          ],
          "name": "stdout"
        }
      ]
    },
    {
      "cell_type": "code",
      "metadata": {
        "id": "g1GBZccd3Sem"
      },
      "source": [
        "#5\n",
        "\n",
        "answer5_today = np.datetime64('2020-12-17', 'D')\n",
        "answer5_before_yesterday = answer5_today + np.timedelta64(-2,'D')\n",
        "answer5_after_tomorrow = answer5_today + np.timedelta64(2,'D')\n",
        "print(\"answer5_today:\",answer5_today)\n",
        "print(\"answer5_before_yesterday:\",answer5_before_yesterday)\n",
        "print(\"answer5_after_tomorrow:\",answer5_after_tomorrow)"
      ],
      "execution_count": 36,
      "outputs": [
        {
          "output_type": "stream",
          "name": "stdout",
          "text": [
            "answer5_today: 2020-12-17\nanswer5_before_yesterday: 2020-12-15\nanswer5_after_tomorrow: 2020-12-19\n"
          ]
        }
      ]
    },
    {
      "cell_type": "markdown",
      "metadata": {
        "id": "zwlDSIrOgouq"
      },
      "source": [
        "## 第六題\n",
        "- 找出x數列中數字1重複了第5次的那個索引\n",
        "  - 利用`np.where()`"
      ]
    },
    {
      "cell_type": "code",
      "metadata": {
        "id": "D649LOi9gvxx",
        "colab": {
          "base_uri": "https://localhost:8080/"
        },
        "outputId": "91fe0b6e-4ee5-42f8-885e-069ad90450b4"
      },
      "source": [],
      "execution_count": null,
      "outputs": [
        {
          "output_type": "stream",
          "text": [
            "[ 0  2  3  7  8 10 11]\n",
            "answer6: 8\n"
          ],
          "name": "stdout"
        }
      ]
    },
    {
      "cell_type": "code",
      "metadata": {
        "id": "pxOgtjul3UL0"
      },
      "source": [
        "#6\n",
        "x = np.array([1,2,1,1,3,4,3,1,1,2,1,1,2])\n",
        "n = 5\n",
        "answer6 = np.where(x==1)\n",
        "print(\"answer6:\",answer6[0][n-1])"
      ],
      "execution_count": 48,
      "outputs": [
        {
          "output_type": "stream",
          "name": "stdout",
          "text": [
            "answer6: 8\n"
          ]
        }
      ]
    },
    {
      "cell_type": "markdown",
      "metadata": {
        "id": "e5tWbmxogwrh"
      },
      "source": [
        "##第七題\n",
        "- 刪除一維numpy數列的所有nan值\n",
        "  - 利用`~`、`np.isnan()`\n",
        "  - `~`:將所有boolean值顛倒,如`[true,false]`->`[false,true]`\n"
      ]
    },
    {
      "cell_type": "code",
      "metadata": {
        "id": "M0z5nfesg24A",
        "colab": {
          "base_uri": "https://localhost:8080/"
        },
        "outputId": "c4ab3a77-8d8d-4584-fe4c-f3fee270f128"
      },
      "source": [],
      "execution_count": null,
      "outputs": [
        {
          "output_type": "stream",
          "text": [
            "answer7: [1. 2. 3. 5. 6. 7.]\n"
          ],
          "name": "stdout"
        }
      ]
    },
    {
      "cell_type": "code",
      "metadata": {
        "id": "NRJFyNTZ3WJX"
      },
      "source": [
        "#7\n",
        "a = np.array([1,2,3,np.nan,5,6,7,np.nan])\n",
        "# print(np.isnan(a))\n",
        "# print(~np.isnan(a))\n",
        "answer7 = a[np.where(~np.isnan(a)==True)]\n",
        "print(\"answer7:\",answer7)"
      ],
      "execution_count": 52,
      "outputs": [
        {
          "output_type": "stream",
          "name": "stdout",
          "text": [
            "answer7: [1. 2. 3. 5. 6. 7.]\n"
          ]
        }
      ]
    },
    {
      "cell_type": "markdown",
      "metadata": {
        "id": "7kcI2wj2FANK"
      },
      "source": [
        "##第八題\n",
        "- 給一個不連續的日期數列dates。通過填補缺失的日期，使其成為連續的日期數列。\n",
        "  \n",
        "  - 利用`np.arange()、np.insert()`"
      ]
    },
    {
      "cell_type": "code",
      "metadata": {
        "id": "-Bbz-gDpFG50",
        "colab": {
          "base_uri": "https://localhost:8080/"
        },
        "outputId": "8a79f001-a580-4204-c43d-aca2edefd238"
      },
      "source": [],
      "execution_count": null,
      "outputs": [
        {
          "output_type": "stream",
          "text": [
            "input dates: ['2020-11-01' '2020-11-03' '2020-11-05' '2020-11-07' '2020-11-09'\n",
            " '2020-11-11' '2020-11-13' '2020-11-15' '2020-11-17' '2020-11-19'\n",
            " '2020-11-21' '2020-11-23']\n",
            "['2020-11-02' '2020-11-04' '2020-11-06' '2020-11-08' '2020-11-10'\n",
            " '2020-11-12' '2020-11-14' '2020-11-16' '2020-11-18' '2020-11-20'\n",
            " '2020-11-22' '2020-11-24']\n",
            "answer8: ['2020-11-01' '2020-11-02' '2020-11-03' '2020-11-04' '2020-11-05'\n",
            " '2020-11-06' '2020-11-07' '2020-11-08' '2020-11-09' '2020-11-10'\n",
            " '2020-11-11' '2020-11-12' '2020-11-13' '2020-11-14' '2020-11-15'\n",
            " '2020-11-16' '2020-11-17' '2020-11-18' '2020-11-19' '2020-11-20'\n",
            " '2020-11-21' '2020-11-22' '2020-11-23' '2020-11-24']\n"
          ],
          "name": "stdout"
        }
      ]
    },
    {
      "cell_type": "code",
      "metadata": {
        "id": "NmF_mUjx3X82"
      },
      "source": [
        "#8\n",
        "dates = np.arange(np.datetime64('2020-11-01'),np.datetime64('2020-11-25'),2)\n",
        "print(\"input dates:\",dates)\n",
        "answer8 = dates\n",
        "# dates2 =      #創建出1~25日所有缺失的日期的ndarray\n",
        "#print(dates2)\n",
        "# j = 0\n",
        "# for i in range(0,len(dates2)):\n",
        "#   answer8 = \n",
        "#   j = \n",
        "# print(\"answer8:\",answer8)"
      ],
      "execution_count": 54,
      "outputs": [
        {
          "output_type": "stream",
          "name": "stdout",
          "text": [
            "input dates: ['2020-11-01' '2020-11-03' '2020-11-05' '2020-11-07' '2020-11-09'\n '2020-11-11' '2020-11-13' '2020-11-15' '2020-11-17' '2020-11-19'\n '2020-11-21' '2020-11-23']\n"
          ]
        }
      ]
    },
    {
      "cell_type": "code",
      "execution_count": null,
      "metadata": {},
      "outputs": [],
      "source": []
    }
  ]
}