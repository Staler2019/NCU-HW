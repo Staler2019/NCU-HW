{
 "cells": [
  {
   "cell_type": "markdown",
   "metadata": {},
   "source": [
    "# Please grab valid email address in the following link.  \n",
    "url: https://isaac60103.github.io/crawl_course/practice/email_list.html"
   ]
  },
  {
   "cell_type": "code",
   "execution_count": 2,
   "metadata": {},
   "outputs": [
    {
     "name": "stdout",
     "output_type": "stream",
     "text": [
      "['isaac60103@gmail.com', 'isaac60103@ntu.edu.com', 'isaac60103@ntu.com.tw', 'isaac60103@hotmail.edu.tw']\n"
     ]
    }
   ],
   "source": [
    "# -*- coding: utf-8 -*-\n",
    "import requests\n",
    "import re\n",
    "\n",
    "# write you code here"
   ]
  },
  {
   "cell_type": "markdown",
   "metadata": {},
   "source": [
    "# Write a Python program to find all five characters long word in a string."
   ]
  },
  {
   "cell_type": "code",
   "execution_count": 21,
   "metadata": {},
   "outputs": [
    {
     "name": "stdout",
     "output_type": "stream",
     "text": [
      "['quick', 'brown', 'jumps']\n"
     ]
    }
   ],
   "source": [
    "import re\n",
    "text = 'The quick brown fox jumps over the lazy dog.'\n",
    "# write your code here\n",
    "words = re.findall(\"\\w{5}\",text)\n",
    "print(words)"
   ]
  },
  {
   "cell_type": "markdown",
   "metadata": {},
   "source": [
    "# Write a Python program to extract values between quotation marks of a string."
   ]
  },
  {
   "cell_type": "code",
   "execution_count": 15,
   "metadata": {},
   "outputs": [
    {
     "name": "stdout",
     "output_type": "stream",
     "text": [
      "['Python', 'PHP', 'Java', 'C++']\n"
     ]
    }
   ],
   "source": [
    "import re\n",
    "text1 = '\"Python\", \"PHP\", \"Java\", \"C++\"'\n",
    "# write your code here\n",
    "words = re.findall('\"(.*?)\"',text1)\n",
    "print(words)"
   ]
  },
  {
   "cell_type": "markdown",
   "metadata": {},
   "source": [
    "# Write a Python program to remove multiple spaces in a string."
   ]
  },
  {
   "cell_type": "code",
   "execution_count": 16,
   "metadata": {},
   "outputs": [
    {
     "name": "stdout",
     "output_type": "stream",
     "text": [
      "Original string: Python      Exercises\n",
      "Without extra spaces: Python Exercises\n"
     ]
    }
   ],
   "source": [
    "import re\n",
    "text1 = 'Python      Exercises'\n",
    "print(\"Original string: {}\".format(text1))\n",
    "# write your code here\n",
    "print(\"Without extra spaces: {}\".format(re.sub(\" +\",\" \",text1)))"
   ]
  },
  {
   "cell_type": "markdown",
   "metadata": {},
   "source": [
    "# Write a Python program to remove all whitespaces from a string."
   ]
  },
  {
   "cell_type": "code",
   "execution_count": 24,
   "metadata": {},
   "outputs": [
    {
     "name": "stdout",
     "output_type": "stream",
     "text": [
      "Original string:  Python    Exercises \n",
      "Without extra spaces: PythonExercises\n"
     ]
    }
   ],
   "source": [
    "import re\n",
    "text1 = ' Python    Exercises '\n",
    "print(\"Original string: {}\".format(text1))\n",
    "# write your code here"
   ]
  },
  {
   "cell_type": "markdown",
   "metadata": {},
   "source": [
    "# Write a Python program to remove everything except alphanumeric characters from a string."
   ]
  },
  {
   "cell_type": "code",
   "execution_count": 30,
   "metadata": {},
   "outputs": [
    {
     "name": "stdout",
     "output_type": "stream",
     "text": [
      "PythonExercises12\n"
     ]
    }
   ],
   "source": [
    "import re\n",
    "text1 = '**//Python Exercises// - 12. '\n",
    "# write your code here"
   ]
  },
  {
   "cell_type": "markdown",
   "metadata": {},
   "source": [
    "# Write a Python program to find all words starting with 'a' or 'e' in a given string."
   ]
  },
  {
   "cell_type": "code",
   "execution_count": 37,
   "metadata": {},
   "outputs": [
    {
     "name": "stdout",
     "output_type": "stream",
     "text": [
      "['example', 'eates', 'an', 'ayList', 'apacity', 'elements', 'elements', 'are', 'en', 'added', 'ayList', 'and', 'ayList', 'ed', 'accordingly']\n"
     ]
    }
   ],
   "source": [
    "import re\n",
    "# Input.\n",
    "text = \"The following example creates an ArrayList with a capacity of 50 elements. Four elements are then added to the ArrayList and the ArrayList is trimmed accordingly.\"\n",
    "#find all the words starting with 'a' or 'e'\n",
    "\n",
    "# write your code here"
   ]
  },
  {
   "cell_type": "markdown",
   "metadata": {},
   "source": [
    "# Write a Python program to find a string that a number is at the end of the string."
   ]
  },
  {
   "cell_type": "code",
   "execution_count": 31,
   "metadata": {},
   "outputs": [
    {
     "name": "stdout",
     "output_type": "stream",
     "text": [
      "[]\n",
      "['abcdef6']\n"
     ]
    }
   ],
   "source": [
    "import re\n",
    "def end_num(string):\n",
    "    # write your code here\n",
    "\n",
    "print(end_num('abcdef'))\n",
    "print(end_num('abcdef6'))"
   ]
  },
  {
   "cell_type": "markdown",
   "metadata": {},
   "source": [
    "# Write a Python program to find all date format (yyyy-mm-dd)."
   ]
  },
  {
   "cell_type": "code",
   "execution_count": 35,
   "metadata": {},
   "outputs": [
    {
     "name": "stdout",
     "output_type": "stream",
     "text": [
      "[('1990', '10', '01')]\n",
      "[('1990', '1', '01')]\n",
      "[]\n",
      "[]\n"
     ]
    }
   ],
   "source": [
    "import re\n",
    "def find_date(string):\n",
    "    # write your code here\n",
    "\n",
    "print(find_date('I was born in 1990-10-01'))\n",
    "print(find_date('I was born in 1990-1-01'))\n",
    "print(find_date('I was born in 1990/1/01'))\n",
    "print(find_date('I was born in 80.1.1'))"
   ]
  },
  {
   "cell_type": "markdown",
   "metadata": {},
   "source": [
    "# Bonus\n",
    "# Please grab the html tag with \"group\" class\n",
    "url: https://isaac60103.github.io/crawl_course/example/beautifulsoup_example.html"
   ]
  },
  {
   "cell_type": "code",
   "execution_count": 4,
   "metadata": {},
   "outputs": [
    {
     "name": "stdout",
     "output_type": "stream",
     "text": [
      "<div class=\"group1\" id=\"id1\">\n",
      "\tthis is div tag (class=\"group1\")\n",
      "\t</div>\n",
      "<td class=\"group1\"> row2 column2 (class=\"group1\") </td>\n",
      "<li class=\"group2\"> li tag (class=\"group2\") </li>\n",
      "<td class=\"group3\">row3 column4 (class=\"group3\")</td>\n"
     ]
    }
   ],
   "source": [
    "import requests\n",
    "import re\n",
    "from bs4 import BeautifulSoup\n",
    "\n",
    "# write your code here"
   ]
  },
  {
   "cell_type": "code",
   "execution_count": null,
   "metadata": {},
   "outputs": [],
   "source": []
  }
 ],
 "metadata": {
  "interpreter": {
   "hash": "03fdeaf8a03935a32ca4d1c8d8063f7bb894f5c3a4a58b053fc2a30007e4d3d9"
  },
  "kernelspec": {
   "display_name": "Python 3.8.3 64-bit",
   "name": "python3"
  },
  "language_info": {
   "codemirror_mode": {
    "name": "ipython",
    "version": 3
   },
   "file_extension": ".py",
   "mimetype": "text/x-python",
   "name": "python",
   "nbconvert_exporter": "python",
   "pygments_lexer": "ipython3",
   "version": "3.8.3"
  }
 },
 "nbformat": 4,
 "nbformat_minor": 2
}
