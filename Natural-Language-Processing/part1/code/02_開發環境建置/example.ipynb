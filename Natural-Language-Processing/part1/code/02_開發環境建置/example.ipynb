{
 "cells": [
  {
   "cell_type": "code",
   "execution_count": 10,
   "source": [
    "# this is comment line\r\n",
    "\r\n",
    "'''\r\n",
    "this is multiple comment line\r\n",
    "this is second line \r\n",
    "this is third line\r\n",
    "'''\r\n",
    "\r\n",
    "print('hello python!')"
   ],
   "outputs": [
    {
     "output_type": "stream",
     "name": "stdout",
     "text": [
      "hello python!\n"
     ]
    }
   ],
   "metadata": {}
  },
  {
   "cell_type": "markdown",
   "source": [
    "this is markdown part"
   ],
   "metadata": {}
  },
  {
   "cell_type": "markdown",
   "source": [
    "# this is heading level1 \r\n",
    "## this is heading level2\r\n",
    "### this is heading level3\r\n"
   ],
   "metadata": {}
  },
  {
   "cell_type": "markdown",
   "source": [
    "- First item\r\n",
    "- Second item\r\n",
    "- Third item\r\n",
    "- Fourth item"
   ],
   "metadata": {}
  },
  {
   "cell_type": "markdown",
   "source": [
    "- First item\r\n",
    "- Second item\r\n",
    "- Third item\r\n",
    "    - Indented item\r\n",
    "    - Indented item\r\n",
    "- Fourth item"
   ],
   "metadata": {}
  },
  {
   "cell_type": "markdown",
   "source": [
    "*   This is the first list item.\r\n",
    "*   Here's the second list item.\r\n",
    "\r\n",
    "    > A blockquote would look great below the second list item.\r\n",
    "\r\n",
    "*   And here's the third list item."
   ],
   "metadata": {}
  },
  {
   "cell_type": "markdown",
   "source": [
    "![my image](./test.jpg)"
   ],
   "metadata": {}
  },
  {
   "cell_type": "code",
   "execution_count": null,
   "source": [],
   "outputs": [],
   "metadata": {}
  }
 ],
 "metadata": {
  "kernelspec": {
   "name": "python3",
   "display_name": "Python 3.8.3 64-bit"
  },
  "language_info": {
   "codemirror_mode": {
    "name": "ipython",
    "version": 3
   },
   "file_extension": ".py",
   "mimetype": "text/x-python",
   "name": "python",
   "nbconvert_exporter": "python",
   "pygments_lexer": "ipython3",
   "version": "3.8.3"
  },
  "interpreter": {
   "hash": "03fdeaf8a03935a32ca4d1c8d8063f7bb894f5c3a4a58b053fc2a30007e4d3d9"
  }
 },
 "nbformat": 4,
 "nbformat_minor": 4
}