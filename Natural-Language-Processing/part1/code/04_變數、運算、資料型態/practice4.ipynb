{
 "cells": [
  {
   "cell_type": "markdown",
   "source": [
    "# Write a Python program to check a list is empty or not."
   ],
   "metadata": {}
  },
  {
   "cell_type": "code",
   "execution_count": 1,
   "source": [
    "l = []\r\n",
    "\r\n",
    "## write your code here"
   ],
   "outputs": [],
   "metadata": {}
  },
  {
   "cell_type": "markdown",
   "source": [
    "# Write a Python program to convert a list of characters into a string."
   ],
   "metadata": {}
  },
  {
   "cell_type": "code",
   "execution_count": 2,
   "source": [
    "s = ['a', 'b', 'c', 'd']\r\n",
    "## write your code here\r\n",
    "print(''.join(s))"
   ],
   "outputs": [
    {
     "output_type": "stream",
     "name": "stdout",
     "text": [
      "abcd\n"
     ]
    }
   ],
   "metadata": {}
  },
  {
   "cell_type": "markdown",
   "source": [
    "# Write a Python program to calculate the length of a string."
   ],
   "metadata": {}
  },
  {
   "cell_type": "code",
   "execution_count": 4,
   "source": [
    "my_string = 'isaac'\r\n",
    "## write your code here\r\n",
    "print(len(my_string))"
   ],
   "outputs": [
    {
     "output_type": "stream",
     "name": "stdout",
     "text": [
      "5\n"
     ]
    }
   ],
   "metadata": {}
  },
  {
   "cell_type": "markdown",
   "source": [
    "# Write a Python program to get a string made of the first 2 and the last 2 chars from a given a string. If the string length is less than 2, return instead of the empty string.  \n",
    "\n",
    "Sample String : 'w3resource'  \n",
    "Expected Result : 'w3ce'  \n",
    "Sample String : 'w3'  \n",
    "Expected Result : 'w3w3'  \n",
    "Sample String : ' w'  \n",
    "Expected Result : Empty String  "
   ],
   "metadata": {}
  },
  {
   "cell_type": "code",
   "execution_count": 9,
   "source": [
    "my_string = input()\r\n",
    "\r\n",
    "## write your code here\r\n",
    "print(my_string)\r\n",
    "if len(my_string) < 2:\r\n",
    "    print()\r\n",
    "else:\r\n",
    "    print(my_string[:2]+my_string[-2:])"
   ],
   "outputs": [
    {
     "output_type": "stream",
     "name": "stdout",
     "text": [
      "w3\n",
      "w3w3\n"
     ]
    }
   ],
   "metadata": {}
  },
  {
   "cell_type": "markdown",
   "source": [
    "# Write a Python program to get a string from a given string where all occurrences of its first char have been changed to '$', except the first char itself."
   ],
   "metadata": {}
  },
  {
   "cell_type": "code",
   "execution_count": 15,
   "source": [
    "my_string = input()\r\n",
    "\r\n",
    "## write your code here\r\n",
    "print(my_string)\r\n",
    "my_string = list(my_string)\r\n",
    "my_string[my_string[1:].index('r')+1] = \"$\"\r\n",
    "print(''.join(my_string))"
   ],
   "outputs": [
    {
     "output_type": "stream",
     "name": "stdout",
     "text": [
      "restart\n",
      "resta$t\n"
     ]
    }
   ],
   "metadata": {}
  },
  {
   "cell_type": "markdown",
   "source": [
    "# Write a Python function to get a string made of 4 copies of the last two characters of a specified string (length must be at least 2)."
   ],
   "metadata": {}
  },
  {
   "cell_type": "code",
   "execution_count": 17,
   "source": [
    "my_string = input()\r\n",
    "\r\n",
    "## write your code here\r\n",
    "print(my_string)\r\n",
    "if len(my_string) < 2:\r\n",
    "    print()\r\n",
    "else:\r\n",
    "    print(my_string[-2:]*4)\r\n"
   ],
   "outputs": [
    {
     "output_type": "stream",
     "name": "stdout",
     "text": [
      "isaac\n",
      "acacacac\n"
     ]
    }
   ],
   "metadata": {}
  },
  {
   "cell_type": "code",
   "execution_count": null,
   "source": [],
   "outputs": [],
   "metadata": {}
  }
 ],
 "metadata": {
  "kernelspec": {
   "name": "python3",
   "display_name": "Python 3.8.3 64-bit"
  },
  "language_info": {
   "codemirror_mode": {
    "name": "ipython",
    "version": 3
   },
   "file_extension": ".py",
   "mimetype": "text/x-python",
   "name": "python",
   "nbconvert_exporter": "python",
   "pygments_lexer": "ipython3",
   "version": "3.8.3"
  },
  "interpreter": {
   "hash": "03fdeaf8a03935a32ca4d1c8d8063f7bb894f5c3a4a58b053fc2a30007e4d3d9"
  }
 },
 "nbformat": 4,
 "nbformat_minor": 4
}